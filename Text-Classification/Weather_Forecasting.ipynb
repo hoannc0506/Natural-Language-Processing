{
 "cells": [
  {
   "cell_type": "code",
   "execution_count": 3,
   "id": "3fe2d3b7-c6dc-415b-ac9b-5b877e73c35d",
   "metadata": {
    "execution": {
     "iopub.execute_input": "2023-12-18T03:31:22.792474Z",
     "iopub.status.busy": "2023-12-18T03:31:22.791870Z",
     "iopub.status.idle": "2023-12-18T03:31:22.799806Z",
     "shell.execute_reply": "2023-12-18T03:31:22.798209Z",
     "shell.execute_reply.started": "2023-12-18T03:31:22.792421Z"
    }
   },
   "outputs": [],
   "source": [
    "import torch\n",
    "import torch.nn as nn\n",
    "import torchinfo\n",
    "import numpy as np\n",
    "import pandas as pd"
   ]
  },
  {
   "cell_type": "markdown",
   "id": "49337715-9692-4d21-97e3-f10973c7e737",
   "metadata": {},
   "source": [
    "# Visualize dataset"
   ]
  },
  {
   "cell_type": "code",
   "execution_count": 4,
   "id": "a81e73db-88c4-49d6-a8c6-3c5fa3cf90e8",
   "metadata": {
    "execution": {
     "iopub.execute_input": "2023-12-18T03:32:15.582469Z",
     "iopub.status.busy": "2023-12-18T03:32:15.581823Z",
     "iopub.status.idle": "2023-12-18T03:32:15.740334Z",
     "shell.execute_reply": "2023-12-18T03:32:15.738989Z",
     "shell.execute_reply.started": "2023-12-18T03:32:15.582381Z"
    }
   },
   "outputs": [
    {
     "data": {
      "text/html": [
       "<div>\n",
       "<style scoped>\n",
       "    .dataframe tbody tr th:only-of-type {\n",
       "        vertical-align: middle;\n",
       "    }\n",
       "\n",
       "    .dataframe tbody tr th {\n",
       "        vertical-align: top;\n",
       "    }\n",
       "\n",
       "    .dataframe thead th {\n",
       "        text-align: right;\n",
       "    }\n",
       "</style>\n",
       "<table border=\"1\" class=\"dataframe\">\n",
       "  <thead>\n",
       "    <tr style=\"text-align: right;\">\n",
       "      <th></th>\n",
       "      <th>Unnamed: 0</th>\n",
       "      <th>Temperature (C)</th>\n",
       "    </tr>\n",
       "  </thead>\n",
       "  <tbody>\n",
       "    <tr>\n",
       "      <th>0</th>\n",
       "      <td>0</td>\n",
       "      <td>9.472222</td>\n",
       "    </tr>\n",
       "    <tr>\n",
       "      <th>1</th>\n",
       "      <td>1</td>\n",
       "      <td>9.355556</td>\n",
       "    </tr>\n",
       "    <tr>\n",
       "      <th>2</th>\n",
       "      <td>2</td>\n",
       "      <td>9.377778</td>\n",
       "    </tr>\n",
       "    <tr>\n",
       "      <th>3</th>\n",
       "      <td>3</td>\n",
       "      <td>8.288889</td>\n",
       "    </tr>\n",
       "    <tr>\n",
       "      <th>4</th>\n",
       "      <td>4</td>\n",
       "      <td>8.755556</td>\n",
       "    </tr>\n",
       "  </tbody>\n",
       "</table>\n",
       "</div>"
      ],
      "text/plain": [
       "   Unnamed: 0  Temperature (C)\n",
       "0           0         9.472222\n",
       "1           1         9.355556\n",
       "2           2         9.377778\n",
       "3           3         8.288889\n",
       "4           4         8.755556"
      ]
     },
     "execution_count": 4,
     "metadata": {},
     "output_type": "execute_result"
    }
   ],
   "source": [
    "data_path = \"dataset/temp.csv\"\n",
    "data = pd.read_csv(data_path)\n",
    "data.head()"
   ]
  },
  {
   "cell_type": "code",
   "execution_count": null,
   "id": "9c782856-250a-411b-9b73-831aeeef0c4b",
   "metadata": {},
   "outputs": [],
   "source": []
  }
 ],
 "metadata": {
  "kernelspec": {
   "display_name": "torch-py38",
   "language": "python",
   "name": "hoannc8-py38"
  },
  "language_info": {
   "codemirror_mode": {
    "name": "ipython",
    "version": 3
   },
   "file_extension": ".py",
   "mimetype": "text/x-python",
   "name": "python",
   "nbconvert_exporter": "python",
   "pygments_lexer": "ipython3",
   "version": "3.8.17"
  }
 },
 "nbformat": 4,
 "nbformat_minor": 5
}
