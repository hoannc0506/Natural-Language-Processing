{
 "cells": [
  {
   "cell_type": "code",
   "execution_count": 1,
   "id": "3fe2d3b7-c6dc-415b-ac9b-5b877e73c35d",
   "metadata": {
    "execution": {
     "iopub.execute_input": "2023-12-20T15:21:25.920383Z",
     "iopub.status.busy": "2023-12-20T15:21:25.919447Z",
     "iopub.status.idle": "2023-12-20T15:21:45.484360Z",
     "shell.execute_reply": "2023-12-20T15:21:45.483507Z",
     "shell.execute_reply.started": "2023-12-20T15:21:25.920319Z"
    }
   },
   "outputs": [],
   "source": [
    "import torch\n",
    "import torch.nn as nn\n",
    "import torchinfo\n",
    "import numpy as np\n",
    "import pandas as pd"
   ]
  },
  {
   "cell_type": "markdown",
   "id": "49337715-9692-4d21-97e3-f10973c7e737",
   "metadata": {},
   "source": [
    "# Visualize dataset"
   ]
  },
  {
   "cell_type": "code",
   "execution_count": 3,
   "id": "a81e73db-88c4-49d6-a8c6-3c5fa3cf90e8",
   "metadata": {
    "execution": {
     "iopub.execute_input": "2023-12-20T15:22:45.803159Z",
     "iopub.status.busy": "2023-12-20T15:22:45.802578Z",
     "iopub.status.idle": "2023-12-20T15:22:45.890645Z",
     "shell.execute_reply": "2023-12-20T15:22:45.889306Z",
     "shell.execute_reply.started": "2023-12-20T15:22:45.803110Z"
    }
   },
   "outputs": [
    {
     "data": {
      "text/html": [
       "<div>\n",
       "<style scoped>\n",
       "    .dataframe tbody tr th:only-of-type {\n",
       "        vertical-align: middle;\n",
       "    }\n",
       "\n",
       "    .dataframe tbody tr th {\n",
       "        vertical-align: top;\n",
       "    }\n",
       "\n",
       "    .dataframe thead th {\n",
       "        text-align: right;\n",
       "    }\n",
       "</style>\n",
       "<table border=\"1\" class=\"dataframe\">\n",
       "  <thead>\n",
       "    <tr style=\"text-align: right;\">\n",
       "      <th></th>\n",
       "      <th>Unnamed: 0</th>\n",
       "      <th>Temperature (C)</th>\n",
       "    </tr>\n",
       "  </thead>\n",
       "  <tbody>\n",
       "    <tr>\n",
       "      <th>0</th>\n",
       "      <td>0</td>\n",
       "      <td>9.472222</td>\n",
       "    </tr>\n",
       "    <tr>\n",
       "      <th>1</th>\n",
       "      <td>1</td>\n",
       "      <td>9.355556</td>\n",
       "    </tr>\n",
       "    <tr>\n",
       "      <th>2</th>\n",
       "      <td>2</td>\n",
       "      <td>9.377778</td>\n",
       "    </tr>\n",
       "    <tr>\n",
       "      <th>3</th>\n",
       "      <td>3</td>\n",
       "      <td>8.288889</td>\n",
       "    </tr>\n",
       "    <tr>\n",
       "      <th>4</th>\n",
       "      <td>4</td>\n",
       "      <td>8.755556</td>\n",
       "    </tr>\n",
       "  </tbody>\n",
       "</table>\n",
       "</div>"
      ],
      "text/plain": [
       "   Unnamed: 0  Temperature (C)\n",
       "0           0         9.472222\n",
       "1           1         9.355556\n",
       "2           2         9.377778\n",
       "3           3         8.288889\n",
       "4           4         8.755556"
      ]
     },
     "execution_count": 3,
     "metadata": {},
     "output_type": "execute_result"
    }
   ],
   "source": [
    "data_path = \"dataset/temp.csv\"\n",
    "data = pd.read_csv(data_path)\n",
    "data.head()"
   ]
  },
  {
   "cell_type": "code",
   "execution_count": 4,
   "id": "9c782856-250a-411b-9b73-831aeeef0c4b",
   "metadata": {
    "execution": {
     "iopub.execute_input": "2023-12-20T15:23:02.202809Z",
     "iopub.status.busy": "2023-12-20T15:23:02.202218Z",
     "iopub.status.idle": "2023-12-20T15:23:02.213013Z",
     "shell.execute_reply": "2023-12-20T15:23:02.211638Z",
     "shell.execute_reply.started": "2023-12-20T15:23:02.202757Z"
    }
   },
   "outputs": [
    {
     "data": {
      "text/plain": [
       "96453"
      ]
     },
     "execution_count": 4,
     "metadata": {},
     "output_type": "execute_result"
    }
   ],
   "source": [
    "len(data[\"Temperature (C)\"])"
   ]
  },
  {
   "cell_type": "code",
   "execution_count": 8,
   "id": "e1e60fda-c342-4c45-a898-a76274bf7bcd",
   "metadata": {
    "execution": {
     "iopub.execute_input": "2023-12-20T15:23:32.408134Z",
     "iopub.status.busy": "2023-12-20T15:23:32.407425Z",
     "iopub.status.idle": "2023-12-20T15:23:32.416431Z",
     "shell.execute_reply": "2023-12-20T15:23:32.415419Z",
     "shell.execute_reply.started": "2023-12-20T15:23:32.408085Z"
    }
   },
   "outputs": [
    {
     "data": {
      "text/plain": [
       "numpy.ndarray"
      ]
     },
     "execution_count": 8,
     "metadata": {},
     "output_type": "execute_result"
    }
   ],
   "source": [
    "type(data[\"Temperature (C)\"].values)"
   ]
  },
  {
   "cell_type": "markdown",
   "id": "e329c737-f3a2-4267-b827-db7de27f941d",
   "metadata": {},
   "source": [
    "# Define models"
   ]
  },
  {
   "cell_type": "markdown",
   "id": "13a50165-9741-4e26-94f3-7925fc411d15",
   "metadata": {},
   "source": [
    "## RNN"
   ]
  },
  {
   "cell_type": "code",
   "execution_count": 56,
   "id": "36971f96-3918-452c-b899-633995624f4b",
   "metadata": {
    "execution": {
     "iopub.execute_input": "2023-12-20T16:13:18.430060Z",
     "iopub.status.busy": "2023-12-20T16:13:18.429393Z",
     "iopub.status.idle": "2023-12-20T16:13:18.440733Z",
     "shell.execute_reply": "2023-12-20T16:13:18.439608Z",
     "shell.execute_reply.started": "2023-12-20T16:13:18.430008Z"
    }
   },
   "outputs": [],
   "source": [
    "class MyRNN(nn.Module):\n",
    "    def __init__(self, \n",
    "                 sequence_length = 5,\n",
    "                 embed_dim = 3,\n",
    "                 hidden_dim = 16,\n",
    "                 num_layers=2):\n",
    "        super(MyRNN, self).__init__()\n",
    "        self.fc1 = nn.Linear(sequence_length, embed_dim)\n",
    "        self.fc2 = nn.Linear(hidden_dim, 1)\n",
    "        self.relu = nn.ReLU()\n",
    "        self.rnn = nn.RNN(embed_dim, hidden_dim, num_layers, batch_first=True)\n",
    "\n",
    "    def forward(self, x):\n",
    "        x = self.fc1(x)\n",
    "        x = self.relu(x)\n",
    "        x = self.rnn(x)\n",
    "        x = self.relu(x)\n",
    "        x = self.fc2(x)\n",
    "\n",
    "        return x"
   ]
  },
  {
   "cell_type": "code",
   "execution_count": 57,
   "id": "b3d23e6b-e841-4bb4-b67f-9cc3be55dbc5",
   "metadata": {
    "execution": {
     "iopub.execute_input": "2023-12-20T16:13:19.484239Z",
     "iopub.status.busy": "2023-12-20T16:13:19.483594Z",
     "iopub.status.idle": "2023-12-20T16:13:19.491622Z",
     "shell.execute_reply": "2023-12-20T16:13:19.490489Z",
     "shell.execute_reply.started": "2023-12-20T16:13:19.484189Z"
    }
   },
   "outputs": [],
   "source": [
    "sample_rnn = MyRNN()"
   ]
  },
  {
   "cell_type": "code",
   "execution_count": 59,
   "id": "cac1d7fe-8aa7-4822-9f24-8bfceb37dea7",
   "metadata": {
    "execution": {
     "iopub.execute_input": "2023-12-20T16:14:32.726375Z",
     "iopub.status.busy": "2023-12-20T16:14:32.725810Z",
     "iopub.status.idle": "2023-12-20T16:14:32.740761Z",
     "shell.execute_reply": "2023-12-20T16:14:32.739739Z",
     "shell.execute_reply.started": "2023-12-20T16:14:32.726327Z"
    }
   },
   "outputs": [
    {
     "data": {
      "text/plain": [
       "=================================================================\n",
       "Layer (type:depth-idx)                   Param #\n",
       "=================================================================\n",
       "MyRNN                                    --\n",
       "├─Linear: 1-1                            18\n",
       "├─Linear: 1-2                            17\n",
       "├─ReLU: 1-3                              --\n",
       "├─RNN: 1-4                               880\n",
       "=================================================================\n",
       "Total params: 915\n",
       "Trainable params: 915\n",
       "Non-trainable params: 0\n",
       "================================================================="
      ]
     },
     "execution_count": 59,
     "metadata": {},
     "output_type": "execute_result"
    }
   ],
   "source": [
    "import torchinfo\n",
    "torchinfo.summary(sample_rnn, input=(1, 5, 1))"
   ]
  },
  {
   "cell_type": "markdown",
   "id": "766d6a3e-ca27-4cad-b196-f9453efd7c23",
   "metadata": {},
   "source": [
    "# Define pytorch dataset and dataloader"
   ]
  },
  {
   "cell_type": "code",
   "execution_count": 37,
   "id": "8d8c404c-e80b-4124-b892-7240914a464e",
   "metadata": {
    "execution": {
     "iopub.execute_input": "2023-12-20T15:37:58.838333Z",
     "iopub.status.busy": "2023-12-20T15:37:58.837614Z",
     "iopub.status.idle": "2023-12-20T15:37:58.847497Z",
     "shell.execute_reply": "2023-12-20T15:37:58.846565Z",
     "shell.execute_reply.started": "2023-12-20T15:37:58.838281Z"
    }
   },
   "outputs": [],
   "source": [
    "import torch\n",
    "from torch.utils.data import Dataset, DataLoader\n",
    "\n",
    "class WeatherDataset(Dataset):\n",
    "    def __init__(self, data, sequence_length):\n",
    "        # data: numpy array data\n",
    "        self.data = data\n",
    "        self.sequence_length = sequence_length\n",
    "\n",
    "    def __len__(self):\n",
    "        return len(self.data) - self.sequence_length\n",
    "    \n",
    "    def __getitem__(self, index):\n",
    "        start_index = index\n",
    "        end_index = index + self.sequence_length\n",
    "\n",
    "        sequence_data = self.data[start_index:end_index]\n",
    "        target = self.data[end_index+1]\n",
    "\n",
    "        # convert to torch tensor\n",
    "        sequence_data = torch.FloatTensor(sequence_data)\n",
    "        target = torch.FloatTensor([target])\n",
    "  \n",
    "        return sequence_data, target"
   ]
  },
  {
   "cell_type": "code",
   "execution_count": 60,
   "id": "beed9aff-b999-484c-87b9-347a83b48978",
   "metadata": {
    "execution": {
     "iopub.execute_input": "2023-12-20T16:14:56.150230Z",
     "iopub.status.busy": "2023-12-20T16:14:56.149678Z",
     "iopub.status.idle": "2023-12-20T16:14:56.160213Z",
     "shell.execute_reply": "2023-12-20T16:14:56.159300Z",
     "shell.execute_reply.started": "2023-12-20T16:14:56.150181Z"
    }
   },
   "outputs": [
    {
     "name": "stdout",
     "output_type": "stream",
     "text": [
      "(tensor([9.4722, 9.3556, 9.3778, 8.2889, 8.7556]), tensor([7.7333]))\n"
     ]
    }
   ],
   "source": [
    "sample_data = data[\"Temperature (C)\"].values\n",
    "sample_dataset = WeatherDataset(data=sample_data, sequence_length=5)\n",
    "\n",
    "print(next(iter(sample_dataset)))"
   ]
  },
  {
   "cell_type": "markdown",
   "id": "365cf5e2-5a86-4b7a-8679-fef0157752cd",
   "metadata": {},
   "source": [
    "# Train - Val model"
   ]
  },
  {
   "cell_type": "markdown",
   "id": "036293fd-e981-4593-9077-70925909fd53",
   "metadata": {},
   "source": [
    "## Split dataset"
   ]
  },
  {
   "cell_type": "code",
   "execution_count": 41,
   "id": "8ce5f273-d678-4e44-bfdf-05d15eefa6bb",
   "metadata": {
    "execution": {
     "iopub.execute_input": "2023-12-20T15:41:54.783964Z",
     "iopub.status.busy": "2023-12-20T15:41:54.783274Z",
     "iopub.status.idle": "2023-12-20T15:41:54.794456Z",
     "shell.execute_reply": "2023-12-20T15:41:54.793440Z",
     "shell.execute_reply.started": "2023-12-20T15:41:54.783913Z"
    }
   },
   "outputs": [
    {
     "data": {
      "text/plain": [
       "(77162, 19291)"
      ]
     },
     "execution_count": 41,
     "metadata": {},
     "output_type": "execute_result"
    }
   ],
   "source": [
    "from sklearn.model_selection import train_test_split\n",
    "\n",
    "all_data = data['Temperature (C)'].values\n",
    "train_data, val_data = train_test_split(all_data, test_size=0.2, shuffle=False)\n",
    "len(train_data), len(val_data)"
   ]
  },
  {
   "cell_type": "markdown",
   "id": "8cf120b8-1033-4dea-9f4e-0c9d835fbbb3",
   "metadata": {},
   "source": [
    "## Create dataloader"
   ]
  },
  {
   "cell_type": "code",
   "execution_count": 43,
   "id": "5c6b1760-02a4-4a50-8970-0f9681ed46ce",
   "metadata": {
    "execution": {
     "iopub.execute_input": "2023-12-20T15:45:34.891744Z",
     "iopub.status.busy": "2023-12-20T15:45:34.891165Z",
     "iopub.status.idle": "2023-12-20T15:45:34.900048Z",
     "shell.execute_reply": "2023-12-20T15:45:34.898916Z",
     "shell.execute_reply.started": "2023-12-20T15:45:34.891693Z"
    }
   },
   "outputs": [],
   "source": [
    "LAG = 5 # forecasting sequence_length\n",
    "BATCH_SIZE = 64\n",
    "\n",
    "train_dataset = WeatherDataset(train_data, sequence_length=LAG)\n",
    "val_dataset = WeatherDataset(val_data, sequence_length=LAG)\n",
    "\n",
    "train_loader = DataLoader(train_dataset, batch_size=BATCH_SIZE, shuffle=True)\n",
    "val_loader = DataLoader(val_dataset, batch_size=BATCH_SIZE, shuffle=False)"
   ]
  },
  {
   "cell_type": "markdown",
   "id": "27b8aed5-2a8e-4e86-bf0d-7e9bd143fa20",
   "metadata": {},
   "source": [
    "## Train"
   ]
  },
  {
   "cell_type": "code",
   "execution_count": null,
   "id": "c5600af4-46d2-4494-8542-e0023a53ed0d",
   "metadata": {},
   "outputs": [],
   "source": [
    "num_epochs = 300\n",
    "# Define your loss function and instantiate the model\n",
    "criterion = nn.MSELoss()\n",
    "model = MyRNN()\n",
    "\n",
    "# Instantiate your optimizer (e.g., stochastic gradient descent)\n",
    "optimizer = optim.SGD(model.parameters(), lr=0.01)\n",
    "\n",
    "for epoch in range(num_epochs):\n",
    "    # Training loop\n",
    "    for batch_idx, (sequence, target) in enumerate(train_dataloader):\n",
    "        # Your training code here\n",
    "\n",
    "    # Validation loop\n",
    "    with torch.no_grad():\n",
    "        for batch_idx, (sequence, target) in enumerate(val_dataloader):\n",
    "            # Your validation code here"
   ]
  }
 ],
 "metadata": {
  "kernelspec": {
   "display_name": "torch-py38",
   "language": "python",
   "name": "hoannc8-py38"
  },
  "language_info": {
   "codemirror_mode": {
    "name": "ipython",
    "version": 3
   },
   "file_extension": ".py",
   "mimetype": "text/x-python",
   "name": "python",
   "nbconvert_exporter": "python",
   "pygments_lexer": "ipython3",
   "version": "3.8.17"
  }
 },
 "nbformat": 4,
 "nbformat_minor": 5
}
